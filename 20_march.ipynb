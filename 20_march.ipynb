{
  "nbformat": 4,
  "nbformat_minor": 0,
  "metadata": {
    "colab": {
      "provenance": [],
      "authorship_tag": "ABX9TyMPCQ0dxYrjUTdz76t42JvI",
      "include_colab_link": true
    },
    "kernelspec": {
      "name": "python3",
      "display_name": "Python 3"
    },
    "language_info": {
      "name": "python"
    }
  },
  "cells": [
    {
      "cell_type": "markdown",
      "metadata": {
        "id": "view-in-github",
        "colab_type": "text"
      },
      "source": [
        "<a href=\"https://colab.research.google.com/github/avhishekz/Python/blob/main/20_march.ipynb\" target=\"_parent\"><img src=\"https://colab.research.google.com/assets/colab-badge.svg\" alt=\"Open In Colab\"/></a>"
      ]
    },
    {
      "cell_type": "code",
      "execution_count": null,
      "metadata": {
        "colab": {
          "base_uri": "https://localhost:8080/"
        },
        "id": "VuAAW4LeZn9_",
        "outputId": "c7cc1171-066c-4daf-a551-8b40166cfc13"
      },
      "outputs": [
        {
          "output_type": "stream",
          "name": "stdout",
          "text": [
            "Abhi\n"
          ]
        }
      ],
      "source": [
        "#passing two paremeter name and address\n",
        "class InstructorInfo:\n",
        "    def __init__(self, name, address):\n",
        "        self.name = name\n",
        "        self.address = address\n",
        "\n",
        "Instructor1 = InstructorInfo(\"Abhi\", \"UPES\")\n",
        "print(Instructor1.name)\n",
        "\n"
      ]
    },
    {
      "cell_type": "code",
      "source": [
        "class InstructorInfo:\n",
        "    followers = 0  # Class attribute to count followers\n",
        "\n",
        "    def __init__(self, name, address):\n",
        "        self.name = name\n",
        "        self.address = address\n",
        "\n",
        "Instructor1 = InstructorInfo(\"Abhi\", \"UPES\")\n",
        "print(Instructor1.name)\n",
        "\n",
        "\n"
      ],
      "metadata": {
        "colab": {
          "base_uri": "https://localhost:8080/"
        },
        "id": "yHcWNA8saMTS",
        "outputId": "9d3aef7d-1d00-4eb0-b002-0ae6075fe77f"
      },
      "execution_count": null,
      "outputs": [
        {
          "output_type": "stream",
          "name": "stdout",
          "text": [
            "Abhi\n"
          ]
        }
      ]
    },
    {
      "cell_type": "code",
      "source": [
        "class InstructorInfo:\n",
        "    followers = 0  # Class attribute to count followers\n",
        "\n",
        "    def __init__(self, name, address):\n",
        "        self.name = name\n",
        "        self.address = address\n",
        "\n",
        "    def display(self):\n",
        "        print(\"hi\")\n",
        "\n",
        "Instructor11 = InstructorInfo(\"Abhi\", \"UPES\")\n",
        "print(Instructor11.name)\n",
        "Instructor11.display()\n",
        "print(Instructor11.display())\n",
        "\n"
      ],
      "metadata": {
        "colab": {
          "base_uri": "https://localhost:8080/"
        },
        "id": "5dtBz2lGbLc0",
        "outputId": "7762c65e-ed8b-4e35-9a91-3f3aa7287123"
      },
      "execution_count": null,
      "outputs": [
        {
          "output_type": "stream",
          "name": "stdout",
          "text": [
            "Abhi\n",
            "hi\n",
            "hi\n",
            "None\n"
          ]
        }
      ]
    },
    {
      "cell_type": "code",
      "source": [
        "class InstructorInfo:\n",
        "    followers = 0  # Class attribute to count followers\n",
        "\n",
        "    def __init__(self, name, address):\n",
        "        self.name = name\n",
        "        self.address = address\n",
        "\n",
        "    def display(self, subject):\n",
        "        print(f\"hi I am {self.name} and I am studying {subject}\")\n",
        "\n",
        "    def update_followers(self):\n",
        "        self.followers += 1\n",
        "\n",
        "Instructor11 = InstructorInfo(\"Abhi\", \"UPES\")\n",
        "print(Instructor11.name)\n",
        "Instructor11.display(\"python\")\n",
        "\n",
        "\n"
      ],
      "metadata": {
        "colab": {
          "base_uri": "https://localhost:8080/"
        },
        "id": "swpDuoSXc6oa",
        "outputId": "6bad5599-2e5f-4467-8b5d-3635a24fa210"
      },
      "execution_count": null,
      "outputs": [
        {
          "output_type": "stream",
          "name": "stdout",
          "text": [
            "Abhi\n",
            "hi I am Abhi and I am studying python\n"
          ]
        }
      ]
    },
    {
      "cell_type": "code",
      "source": [
        "class Circle:\n",
        "    def __init__(self, radius):\n",
        "        self.radius = radius\n",
        "\n",
        "    def circumference(self):     #method bnaye\n",
        "        return 2*3.14*self.radius   #method value ko return kr dega\n",
        "\n",
        "circle = Circle(2)\n",
        "print(circle.circumference())"
      ],
      "metadata": {
        "colab": {
          "base_uri": "https://localhost:8080/"
        },
        "id": "SPVdd1LOeUTS",
        "outputId": "c7641357-6bc5-41ab-9c94-50ed1ed13778"
      },
      "execution_count": null,
      "outputs": [
        {
          "output_type": "stream",
          "name": "stdout",
          "text": [
            "12.56\n"
          ]
        }
      ]
    },
    {
      "cell_type": "code",
      "source": [
        "class human:\n",
        "  def eat(self):\n",
        "    print(\"i can eat\")\n",
        "  def work(self):\n",
        "    print(\"i can work\")\n",
        "class male(human):\n",
        "  def work(self):\n",
        "    super().work()\n",
        "print(\"i can code also\")\n"
      ],
      "metadata": {
        "colab": {
          "base_uri": "https://localhost:8080/"
        },
        "id": "FcCw3nImoXyE",
        "outputId": "738b8801-d194-464d-f528-efc187cad84a"
      },
      "execution_count": null,
      "outputs": [
        {
          "output_type": "stream",
          "name": "stdout",
          "text": [
            "i can code also\n"
          ]
        }
      ]
    },
    {
      "cell_type": "code",
      "source": [
        "class Student:\n",
        "    def __init__(self, name, marks):\n",
        "        self.name = name\n",
        "        self.marks = marks\n",
        "\n",
        "    def cal_average(self):\n",
        "        total_marks = sum(self.marks)\n",
        "        average = total_marks / len(self.marks)\n",
        "        return average\n",
        "\n",
        "students = [\n",
        "    Student(\"Rishi\", [95, 85, 74 ,45 ,45,36]),\n",
        "    Student(\"Abhi\", [40, 90, 75,79,56,49]),\n",
        "    Student(\"Aryoooooon\", [75, 76, 90,56,98,36]),\n",
        "    ]\n",
        "\n",
        "\n",
        "for student in students:\n",
        "    average = student.cal_average()\n",
        "    print(f\"{student.name}'s average: {average}\")"
      ],
      "metadata": {
        "colab": {
          "base_uri": "https://localhost:8080/"
        },
        "id": "BDg--EmLpY1P",
        "outputId": "acb98055-2be5-4f3d-8885-336172bf7f14"
      },
      "execution_count": null,
      "outputs": [
        {
          "output_type": "stream",
          "name": "stdout",
          "text": [
            "Rishi's average: 63.333333333333336\n",
            "Abhi's average: 64.83333333333333\n",
            "Aryoooooon's average: 71.83333333333333\n"
          ]
        }
      ]
    }
  ]
}