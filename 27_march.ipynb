{
  "nbformat": 4,
  "nbformat_minor": 0,
  "metadata": {
    "colab": {
      "provenance": [],
      "authorship_tag": "ABX9TyOxwnD5U7qwi1wnCgmRN2FW",
      "include_colab_link": true
    },
    "kernelspec": {
      "name": "python3",
      "display_name": "Python 3"
    },
    "language_info": {
      "name": "python"
    }
  },
  "cells": [
    {
      "cell_type": "markdown",
      "metadata": {
        "id": "view-in-github",
        "colab_type": "text"
      },
      "source": [
        "<a href=\"https://colab.research.google.com/github/avhishekz/Python/blob/main/27_march.ipynb\" target=\"_parent\"><img src=\"https://colab.research.google.com/assets/colab-badge.svg\" alt=\"Open In Colab\"/></a>"
      ]
    },
    {
      "cell_type": "code",
      "execution_count": null,
      "metadata": {
        "id": "Dq61ZjhJZv4-"
      },
      "outputs": [],
      "source": [
        "#inheritance\n",
        "#single level             one parent     one child\n",
        "#Multiple                 Two parent     one child\n",
        "#Multi level              one parent     two child\n",
        "#Hybrid                   one parent     two child   one child"
      ]
    },
    {
      "cell_type": "code",
      "source": [
        "#FOUR PILLERS OF OPP\n",
        "#1.ABSTRACTION\n",
        "#2.ENCAPSULATION\n",
        "#3.INHERITANCE\n",
        "#4.POLYMORPHISM"
      ],
      "metadata": {
        "id": "bqOlJZnWaeCq"
      },
      "execution_count": null,
      "outputs": []
    },
    {
      "cell_type": "code",
      "source": [
        "class Human:\n",
        "    def eat(self):\n",
        "        print(\"I can eat\")\n",
        "\n",
        "class Male(Human):\n",
        "    def work(self):\n",
        "        print(\"I can work\")\n",
        "\n",
        "class Boy(Human):\n",
        "    def code(self):\n",
        "        print(\"I can code\")\n",
        "\n",
        "Male1 = Male()\n",
        "Male1.work()\n",
        "Male1.eat()\n",
        "\n",
        "Boy1 = Boy()\n",
        "Boy1.code()\n",
        "Boy1.eat()\n"
      ],
      "metadata": {
        "colab": {
          "base_uri": "https://localhost:8080/"
        },
        "id": "LmUIKtpEa-i1",
        "outputId": "1dccf436-2162-4146-9f70-c54284577526"
      },
      "execution_count": null,
      "outputs": [
        {
          "output_type": "stream",
          "name": "stdout",
          "text": [
            "I can work\n",
            "I can eat\n",
            "I can code\n",
            "I can eat\n"
          ]
        }
      ]
    },
    {
      "cell_type": "code",
      "source": [
        "class Account:\n",
        "    def __init__(self, Acc_no, Acc_Balance):\n",
        "        self.Acc_no = Acc_no\n",
        "        self.Acc_Balance = Acc_Balance\n",
        "\n",
        "    def Debit_Acc(self, Debit):\n",
        "        self.debit = Debit\n",
        "        self.Acc_Balance -= self.debit\n",
        "        print(self.Acc_Balance)\n",
        "\n",
        "    def credit(self, credit_Amount):\n",
        "        self.credit_Amount = credit_Amount\n",
        "        self.Acc_Balance += self.credit_Amount\n",
        "        print(self.Acc_Balance)\n",
        "\n",
        "obj1 = Account(\"500126429\", 10000)\n",
        "obj1.Debit_Acc(8000)\n",
        "obj1.credit(1000)\n"
      ],
      "metadata": {
        "colab": {
          "base_uri": "https://localhost:8080/"
        },
        "id": "p8PuuqrqcVGt",
        "outputId": "f6aa73b6-811d-478a-aabe-8f6c0e167752"
      },
      "execution_count": null,
      "outputs": [
        {
          "output_type": "stream",
          "name": "stdout",
          "text": [
            "2000\n",
            "3000\n"
          ]
        }
      ]
    },
    {
      "cell_type": "code",
      "source": [
        "#Parent class , root class hota hai"
      ],
      "metadata": {
        "id": "un9gUnWdgfvS"
      },
      "execution_count": null,
      "outputs": []
    },
    {
      "cell_type": "code",
      "source": [
        "class Human:\n",
        "    def __init__(self, name, num_heart):\n",
        "        print(\"Calling init from human\")\n",
        "        self.eyes = 2\n",
        "        self.nose = 1\n",
        "        self.heart = num_heart\n",
        "\n",
        "    def work(self):\n",
        "        print(\"I can work\")\n",
        "\n",
        "\n",
        "class Male(Human):\n",
        "    def __init__(self, name, num_heart):\n",
        "        super().__init__(name, num_heart)\n",
        "        print(\"Calling init from male\")\n",
        "        self.name = name\n",
        "\n",
        "    def work(self):\n",
        "        print(\"I can code\")\n",
        "\n",
        "\n",
        "boy1 = Male(\"abhi\", 1)\n",
        "print(boy1.name)\n",
        "boy1.work()\n"
      ],
      "metadata": {
        "colab": {
          "base_uri": "https://localhost:8080/"
        },
        "id": "N6lubmuZgpnl",
        "outputId": "0c6351dd-abb7-41a4-b66d-c680a8e24581"
      },
      "execution_count": null,
      "outputs": [
        {
          "output_type": "stream",
          "name": "stdout",
          "text": [
            "Calling init from human\n",
            "Calling init from male\n",
            "abhi\n",
            "I can code\n"
          ]
        }
      ]
    },
    {
      "cell_type": "code",
      "source": [
        "class Human:\n",
        "    def __init__(self, name, age):\n",
        "        self.name = name\n",
        "        self.age = age\n",
        "\n",
        "    def display(self):\n",
        "        print(f\"My name is {self.name}\")\n",
        "\n",
        "class Male(Human):\n",
        "    def __init__(self, name, age, location):\n",
        "        super().__init__(name, age)\n",
        "        print(\"I am __init__ of Male class\")\n",
        "        self.location = location\n",
        "\n",
        "    def work(self):\n",
        "        print(\"I can work\")\n",
        "\n",
        "class Female(Human):\n",
        "    def __init__(self, name, age):\n",
        "        super().__init__(name, age)\n",
        "        print(\"I am __init__ of Female class\")\n",
        "\n",
        "obj1 = Female(\"AAAAA\", 19)\n",
        "print(obj1.name)\n"
      ],
      "metadata": {
        "colab": {
          "base_uri": "https://localhost:8080/"
        },
        "id": "QkGSl_g5jwHX",
        "outputId": "c5776578-b1f9-44df-abeb-b9ce9d7b0c93"
      },
      "execution_count": null,
      "outputs": [
        {
          "output_type": "stream",
          "name": "stdout",
          "text": [
            "I am __init__ of Female class\n",
            "AAAAA\n"
          ]
        }
      ]
    },
    {
      "cell_type": "code",
      "source": [
        "#COMBINATION OF TWO OR MORE HERITANCE\n"
      ],
      "metadata": {
        "id": "XvWHnt5Gn2Ti"
      },
      "execution_count": null,
      "outputs": []
    },
    {
      "cell_type": "code",
      "source": [
        "class A:\n",
        "    def display(self):\n",
        "        print(\"Display method from class A\")\n",
        "\n",
        "class B(A):\n",
        "    def display(self):\n",
        "        print(\"Display method from class B\")\n",
        "\n",
        "class C(A):\n",
        "    def display(self):\n",
        "        print(\"Display method from class C\")\n",
        "\n",
        "class D(B, C):\n",
        "    pass\n",
        "\n",
        "def show(obj):\n",
        "    obj.display()\n",
        "obj = D()\n",
        "print(D.mro())\n",
        "\n",
        "obj.display()\n",
        "\n",
        "show(obj)\n"
      ],
      "metadata": {
        "colab": {
          "base_uri": "https://localhost:8080/"
        },
        "id": "JanUm7vSoe-b",
        "outputId": "944d56a5-ea07-4411-b049-0f93c3b6c3c3"
      },
      "execution_count": null,
      "outputs": [
        {
          "output_type": "stream",
          "name": "stdout",
          "text": [
            "[<class '__main__.D'>, <class '__main__.B'>, <class '__main__.C'>, <class '__main__.A'>, <class 'object'>]\n",
            "Display method from class B\n",
            "Display method from class B\n"
          ]
        }
      ]
    },
    {
      "cell_type": "code",
      "source": [
        "#ABATRACTION ////DATA HIDING ////PUBLIC    PRIVATE(\"__\"   BEFORE VARIABLE)  ////PRIVATE CLASS   PUBLIC CLASS"
      ],
      "metadata": {
        "id": "Icsh_dalpLsu"
      },
      "execution_count": null,
      "outputs": []
    },
    {
      "cell_type": "code",
      "source": [
        "class Account:\n",
        "    def __init__(self, Acc_name, Acc_o, initial_balance=0):\n",
        "        self.__Account_Name = Acc_name\n",
        "        self.__Account_Owner = Acc_o\n",
        "        self.__balance = initial_balance\n",
        "\n",
        "    def credit(self, amount):\n",
        "        if amount > 0:\n",
        "            self.__balance += amount\n",
        "            print(f\"Successfully credited {amount} to {self.__Account_Name}.\")\n",
        "        else:\n",
        "            print(\"Invalid amount\")\n",
        "\n",
        "    def debit(self, amount):\n",
        "        if 0 < amount <= self.__balance:\n",
        "            self.__balance -= amount\n",
        "            print(f\"Successfully debited {amount} from {self.__Account_Name}.\")\n",
        "        else:\n",
        "            print(\"Insufficient funds or invalid amount for debit.\")\n",
        "\n",
        "    def check_balance(self):\n",
        "        print(f\"Balance in {self.__Account_Name}: {self.__balance}\")\n",
        "\n",
        "if __name__ == \"__main__\":\n",
        "    acc1 = Account(\"Savings\", \"Abhishek\", 1000)\n",
        "\n",
        "    acc1.check_balance()\n",
        "    acc1.credit(500)\n",
        "    acc1.debit(200)\n",
        "    acc1.check_balance()\n",
        "\n"
      ],
      "metadata": {
        "id": "KL8yiWNJplPN",
        "colab": {
          "base_uri": "https://localhost:8080/"
        },
        "outputId": "5348ce7a-54cf-4a5f-a62e-8904bac965db"
      },
      "execution_count": 1,
      "outputs": [
        {
          "output_type": "stream",
          "name": "stdout",
          "text": [
            "Balance in Savings: 1000\n",
            "Successfully credited 500 to Savings.\n",
            "Successfully debited 200 from Savings.\n",
            "Balance in Savings: 1300\n"
          ]
        }
      ]
    }
  ]
}