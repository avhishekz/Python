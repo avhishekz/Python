{
  "nbformat": 4,
  "nbformat_minor": 0,
  "metadata": {
    "colab": {
      "provenance": [],
      "authorship_tag": "ABX9TyPCsSnX2nJyf3eesha00P76",
      "include_colab_link": true
    },
    "kernelspec": {
      "name": "python3",
      "display_name": "Python 3"
    },
    "language_info": {
      "name": "python"
    }
  },
  "cells": [
    {
      "cell_type": "markdown",
      "metadata": {
        "id": "view-in-github",
        "colab_type": "text"
      },
      "source": [
        "<a href=\"https://colab.research.google.com/github/avhishekz/Python/blob/main/18_march_OOP.ipynb\" target=\"_parent\"><img src=\"https://colab.research.google.com/assets/colab-badge.svg\" alt=\"Open In Colab\"/></a>"
      ]
    },
    {
      "cell_type": "code",
      "execution_count": null,
      "metadata": {
        "id": "T3PIgcJahKeh"
      },
      "outputs": [],
      "source": [
        "# oop: PROCEDURAL(PROCEDURE) ORIENTED(FUNCTIONS)"
      ]
    },
    {
      "cell_type": "code",
      "source": [
        "a=10\n",
        "print(type(a))"
      ],
      "metadata": {
        "colab": {
          "base_uri": "https://localhost:8080/"
        },
        "id": "w__kzDKFixgd",
        "outputId": "a6fcd319-aa28-4155-caa8-57cee892e039"
      },
      "execution_count": 1,
      "outputs": [
        {
          "output_type": "stream",
          "name": "stdout",
          "text": [
            "<class 'int'>\n"
          ]
        }
      ]
    },
    {
      "cell_type": "code",
      "source": [
        "# class above is an blueprint of an object"
      ],
      "metadata": {
        "id": "07tMwfTPi7n7"
      },
      "execution_count": null,
      "outputs": []
    },
    {
      "cell_type": "code",
      "source": [
        "class InstructorInfo:   # class bnaya instructorinfo\n",
        "  print(\"Creating new object\")\n",
        "python=InstructorInfo()   #object bnake instructorinfo ko call kiya"
      ],
      "metadata": {
        "colab": {
          "base_uri": "https://localhost:8080/"
        },
        "id": "kJmuw-RCjMoI",
        "outputId": "c3493fc0-ad99-4bbe-d68c-be25c43588b7"
      },
      "execution_count": 2,
      "outputs": [
        {
          "output_type": "stream",
          "name": "stdout",
          "text": [
            "Creating new object\n"
          ]
        }
      ]
    },
    {
      "cell_type": "code",
      "source": [
        "print(type(python))"
      ],
      "metadata": {
        "colab": {
          "base_uri": "https://localhost:8080/"
        },
        "id": "yyV3r8WCkPR8",
        "outputId": "6e38224a-d591-454c-a33d-66fb38a4fea8"
      },
      "execution_count": 3,
      "outputs": [
        {
          "output_type": "stream",
          "name": "stdout",
          "text": [
            "<class '__main__.InstructorInfo'>\n"
          ]
        }
      ]
    },
    {
      "cell_type": "code",
      "source": [
        "python.name=\"Abhi\"\n",
        "python.address=\"UPES\""
      ],
      "metadata": {
        "id": "8Ir34z8nkdyz"
      },
      "execution_count": 4,
      "outputs": []
    },
    {
      "cell_type": "code",
      "source": [
        "print(python.name)"
      ],
      "metadata": {
        "colab": {
          "base_uri": "https://localhost:8080/"
        },
        "id": "nyu05Dqpklgi",
        "outputId": "569db9e4-b929-49b8-d3cd-6a168e43536f"
      },
      "execution_count": 5,
      "outputs": [
        {
          "output_type": "stream",
          "name": "stdout",
          "text": [
            "Abhi\n"
          ]
        }
      ]
    },
    {
      "cell_type": "code",
      "source": [
        "Java=InstructorInfo()\n",
        "Java.name=\"Kumar\"\n",
        "Java.address=\"UPES\""
      ],
      "metadata": {
        "id": "Ylcg062lkv61"
      },
      "execution_count": 6,
      "outputs": []
    },
    {
      "cell_type": "code",
      "source": [
        "print(\"Java.name\")"
      ],
      "metadata": {
        "colab": {
          "base_uri": "https://localhost:8080/"
        },
        "id": "XAdVijvdlXtI",
        "outputId": "cfc8dcf4-a240-476d-c650-e4ad760fe185"
      },
      "execution_count": 7,
      "outputs": [
        {
          "output_type": "stream",
          "name": "stdout",
          "text": [
            "Java.name\n"
          ]
        }
      ]
    },
    {
      "cell_type": "code",
      "source": [
        "class Instructor:\n",
        "    def __init__(self, instructor_name, address):\n",
        "        self.name = instructor_name\n",
        "        self.address = address\n",
        "\n",
        "instructor1 = Instructor(\"Abhi\", \"UPES\")\n",
        "print(instructor1.name)\n",
        "\n"
      ],
      "metadata": {
        "colab": {
          "base_uri": "https://localhost:8080/"
        },
        "id": "szg5NeEZmeTb",
        "outputId": "59b850a5-6144-4959-bf60-2c685a9a2e18"
      },
      "execution_count": 10,
      "outputs": [
        {
          "output_type": "stream",
          "name": "stdout",
          "text": [
            "Abhi\n"
          ]
        }
      ]
    },
    {
      "cell_type": "code",
      "source": [
        "instructor2 = Instructor(\"Abhi\", \"UPES\")\n",
        "print(instructor2.name)"
      ],
      "metadata": {
        "colab": {
          "base_uri": "https://localhost:8080/"
        },
        "id": "vI0t1LWam68A",
        "outputId": "6ba01490-863d-40d8-aa9f-875599f6f280"
      },
      "execution_count": 12,
      "outputs": [
        {
          "output_type": "stream",
          "name": "stdout",
          "text": [
            "Abhi\n"
          ]
        }
      ]
    },
    {
      "cell_type": "code",
      "source": [
        "class Manager:\n",
        "    def __init__(self, name, subject):\n",
        "        self.name = name\n",
        "        self.subject = subject\n",
        "\n",
        "    def take_exams(self):\n",
        "        print(f\"{self.name} is taking exams for {self.subject}\")\n",
        "\n",
        "    def take_viva(self):\n",
        "        print(f\"{self.name} is taking viva for {self.subject}\")\n",
        "\n",
        "    def give_marks(self):\n",
        "        print(f\"{self.name} is giving marks for {self.subject}\")\n",
        "\n",
        "python_instructor = Manager(\"Abhi\", \"Python\")\n",
        "java_instructor = Manager(\"Kumar\", \"Java\")\n",
        "cpp_instructor = Manager(\"Singh\", \"C++\")\n",
        "\n",
        "python_instructor.take_exams()\n",
        "python_instructor.take_viva()\n",
        "python_instructor.give_marks()\n",
        "\n",
        "java_instructor.take_exams()\n",
        "java_instructor.take_viva()\n",
        "java_instructor.give_marks()\n",
        "\n",
        "cpp_instructor.take_exams()\n",
        "cpp_instructor.take_viva()\n",
        "cpp_instructor.give_marks()\n"
      ],
      "metadata": {
        "colab": {
          "base_uri": "https://localhost:8080/"
        },
        "id": "M5TDImwfpf4h",
        "outputId": "2afc1b40-77a4-4617-a5c1-a40fad0cbc10"
      },
      "execution_count": 15,
      "outputs": [
        {
          "output_type": "stream",
          "name": "stdout",
          "text": [
            "Abhi is taking exams for Python\n",
            "Abhi is taking viva for Python\n",
            "Abhi is giving marks for Python\n",
            "Kumar is taking exams for Java\n",
            "Kumar is taking viva for Java\n",
            "Kumar is giving marks for Java\n",
            "Singh is taking exams for C++\n",
            "Singh is taking viva for C++\n",
            "Singh is giving marks for C++\n"
          ]
        }
      ]
    }
  ]
}