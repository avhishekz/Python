{
  "nbformat": 4,
  "nbformat_minor": 0,
  "metadata": {
    "colab": {
      "provenance": [],
      "authorship_tag": "ABX9TyOWCrNbXWKWCuYmSEmDEbEE",
      "include_colab_link": true
    },
    "kernelspec": {
      "name": "python3",
      "display_name": "Python 3"
    },
    "language_info": {
      "name": "python"
    }
  },
  "cells": [
    {
      "cell_type": "markdown",
      "metadata": {
        "id": "view-in-github",
        "colab_type": "text"
      },
      "source": [
        "<a href=\"https://colab.research.google.com/github/avhishekz/Python/blob/main/3_April.ipynb\" target=\"_parent\"><img src=\"https://colab.research.google.com/assets/colab-badge.svg\" alt=\"Open In Colab\"/></a>"
      ]
    },
    {
      "cell_type": "code",
      "execution_count": null,
      "metadata": {
        "colab": {
          "base_uri": "https://localhost:8080/"
        },
        "id": "s___DCEadST-",
        "outputId": "e99ef3f5-6e0c-4222-a3b7-f61619a04a7d"
      },
      "outputs": [
        {
          "output_type": "stream",
          "name": "stdout",
          "text": [
            "My name is Abhishek and my age is 19\n",
            "My name is Abhi and my age is 19\n"
          ]
        }
      ],
      "source": [
        "class Student:\n",
        "    def __init__(self, name, rollno, age):\n",
        "        self.name = name\n",
        "        self.rollno = rollno\n",
        "        self.age = age\n",
        "\n",
        "    def __display(self):\n",
        "        print(f\"My name is {self.name} and my age is {self.age}\")\n",
        "\n",
        "    def show(self):\n",
        "        self.__display()\n",
        "\n",
        "s1 = Student(\"Abhishek\", 879, 19)\n",
        "s1.show()\n",
        "s1.name = \"Abhi\"  # Name update\n",
        "s1.show()\n",
        "\n",
        "\n",
        "#self ke andr private method ko call kr rhe hain (aise outside the class error dega)\n",
        "#isliye ek aur class bnaiyenge aur phir call krenge then it would work\n",
        "\n",
        "\n"
      ]
    }
  ]
}