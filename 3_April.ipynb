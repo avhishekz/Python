{
  "nbformat": 4,
  "nbformat_minor": 0,
  "metadata": {
    "colab": {
      "provenance": [],
      "authorship_tag": "ABX9TyOO/5BCx2c34LbPeVG1emVY",
      "include_colab_link": true
    },
    "kernelspec": {
      "name": "python3",
      "display_name": "Python 3"
    },
    "language_info": {
      "name": "python"
    }
  },
  "cells": [
    {
      "cell_type": "markdown",
      "metadata": {
        "id": "view-in-github",
        "colab_type": "text"
      },
      "source": [
        "<a href=\"https://colab.research.google.com/github/avhishekz/Python/blob/main/3_April.ipynb\" target=\"_parent\"><img src=\"https://colab.research.google.com/assets/colab-badge.svg\" alt=\"Open In Colab\"/></a>"
      ]
    },
    {
      "cell_type": "code",
      "execution_count": 7,
      "metadata": {
        "colab": {
          "base_uri": "https://localhost:8080/"
        },
        "id": "s___DCEadST-",
        "outputId": "e99ef3f5-6e0c-4222-a3b7-f61619a04a7d"
      },
      "outputs": [
        {
          "output_type": "stream",
          "name": "stdout",
          "text": [
            "My name is Abhishek and my age is 19\n",
            "My name is Abhi and my age is 19\n"
          ]
        }
      ],
      "source": [
        "class Student:\n",
        "    def __init__(self, name, rollno, age):\n",
        "        self.name = name\n",
        "        self.rollno = rollno\n",
        "        self.age = age\n",
        "\n",
        "    def __display(self):\n",
        "        print(f\"My name is {self.name} and my age is {self.age}\")\n",
        "\n",
        "    def show(self):\n",
        "        self.__display()\n",
        "\n",
        "s1 = Student(\"Abhishek\", 879, 19)\n",
        "s1.show()\n",
        "s1.name = \"Abhi\"  # Name update\n",
        "s1.show()\n",
        "\n",
        "\n",
        "#self ke andr private method ko call kr rhe hain (aise outside the class error dega)\n",
        "#isliye ek aur class bnaiyenge aur phir call krenge then it would work\n",
        "\n",
        "\n"
      ]
    },
    {
      "cell_type": "code",
      "source": [
        "#ENCAPSULATION"
      ],
      "metadata": {
        "id": "1EypXkqxj819"
      },
      "execution_count": null,
      "outputs": []
    },
    {
      "cell_type": "code",
      "source": [
        "def __init__(self,name,rollno,age):\n",
        "  self.__age=19"
      ],
      "metadata": {
        "id": "HJFvjeUDlJVt"
      },
      "execution_count": null,
      "outputs": []
    },
    {
      "cell_type": "code",
      "source": [
        "class Student:\n",
        "    def __init__(self, name, age):\n",
        "        self.name = name\n",
        "        if age > 34:\n",
        "            print(\"Age should be less than or equal to 34\")\n",
        "            self.age = 0\n",
        "        else:\n",
        "            self.age = age\n",
        "\n",
        "    def get_age(self):\n",
        "        return self.age\n",
        "\n",
        "s1 = Student(\"Abhi\", 19)\n",
        "print(s1.get_age())"
      ],
      "metadata": {
        "colab": {
          "base_uri": "https://localhost:8080/"
        },
        "id": "iJjCKj2OqGVC",
        "outputId": "c12e99ab-3c69-40f2-b2d5-587a7784dc11"
      },
      "execution_count": 9,
      "outputs": [
        {
          "output_type": "stream",
          "name": "stdout",
          "text": [
            "19\n"
          ]
        }
      ]
    },
    {
      "cell_type": "code",
      "source": [
        "#IMPLEMENTING POLYMORHISM\n",
        "#1.DUCK TYPING   allows static and dynamic"
      ],
      "metadata": {
        "id": "7K7MrSX9qmMH"
      },
      "execution_count": null,
      "outputs": []
    },
    {
      "cell_type": "code",
      "source": [
        "#static and dynamic typing\n",
        "#function defines sq of a number\n",
        "def square(x):\n",
        "    return x * x\n",
        "\n",
        "result = square(5)\n",
        "print(result)\n"
      ],
      "metadata": {
        "colab": {
          "base_uri": "https://localhost:8080/"
        },
        "id": "QbxRbLjhrSi7",
        "outputId": "c80366f5-7814-4810-fc1e-533c9dac466b"
      },
      "execution_count": 10,
      "outputs": [
        {
          "output_type": "stream",
          "name": "stdout",
          "text": [
            "25\n"
          ]
        }
      ]
    },
    {
      "cell_type": "code",
      "source": [
        "class Duck:\n",
        "  def swim(Self):\n",
        "    print(\"I d0 swim\")\n",
        "  def speaks(Self):\n",
        "    print(\"quack quack\")\n",
        "class Bird:\n",
        "    def swim(self):\n",
        "      print(\"I am a bird i swim\")\n",
        "    def speaks(self):\n",
        "      print(\"I am a bird I can speak\")\n",
        "\n",
        "class person:\n",
        "  def swim(self):\n",
        "    print(\"I am a person who can swim\")\n",
        "  def display(abc):\n",
        "    abc.swim()\n",
        "    abc.speaks()\n",
        "    print(\"Info displayed\")\n",
        "\n",
        "  d=Duck()\n",
        "  display(d)\n",
        "  b=Bird()\n",
        "  display(b)"
      ],
      "metadata": {
        "colab": {
          "base_uri": "https://localhost:8080/"
        },
        "id": "voJqqrxbrmTN",
        "outputId": "b5d99d59-f45b-493e-fea3-47562941f487"
      },
      "execution_count": 17,
      "outputs": [
        {
          "output_type": "stream",
          "name": "stdout",
          "text": [
            "I d0 swim\n",
            "quack quack\n",
            "Info displayed\n",
            "I am a bird i swim\n",
            "I am a bird I can speak\n",
            "Info displayed\n"
          ]
        }
      ]
    }
  ]
}