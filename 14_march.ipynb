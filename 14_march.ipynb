{
  "nbformat": 4,
  "nbformat_minor": 0,
  "metadata": {
    "colab": {
      "provenance": [],
      "authorship_tag": "ABX9TyOKrjXtxiPgB8fFHsA8jHvx",
      "include_colab_link": true
    },
    "kernelspec": {
      "name": "python3",
      "display_name": "Python 3"
    },
    "language_info": {
      "name": "python"
    }
  },
  "cells": [
    {
      "cell_type": "markdown",
      "metadata": {
        "id": "view-in-github",
        "colab_type": "text"
      },
      "source": [
        "<a href=\"https://colab.research.google.com/github/avhishekz/Python/blob/main/14_march.ipynb\" target=\"_parent\"><img src=\"https://colab.research.google.com/assets/colab-badge.svg\" alt=\"Open In Colab\"/></a>"
      ]
    },
    {
      "cell_type": "code",
      "execution_count": null,
      "metadata": {
        "id": "LSP1aOuYEJUn"
      },
      "outputs": [],
      "source": [
        "f1 = open(\"file1.text\" , \"x\")\n",
        "f1=open(\"file11.text\", \"a\")"
      ]
    },
    {
      "cell_type": "code",
      "source": [
        "print(f1.tell())"
      ],
      "metadata": {
        "colab": {
          "base_uri": "https://localhost:8080/"
        },
        "id": "UjzvwbGUGLIT",
        "outputId": "2b85316d-7575-4a5f-9f7d-d3c1e588eaf4"
      },
      "execution_count": null,
      "outputs": [
        {
          "output_type": "stream",
          "name": "stdout",
          "text": [
            "0\n"
          ]
        }
      ]
    },
    {
      "cell_type": "code",
      "source": [
        "f1 = open(\"file1.text\", \"a+\")"
      ],
      "metadata": {
        "id": "yWJdmucmGPuv"
      },
      "execution_count": null,
      "outputs": []
    },
    {
      "cell_type": "code",
      "source": [
        "print(f1.read())"
      ],
      "metadata": {
        "colab": {
          "base_uri": "https://localhost:8080/"
        },
        "id": "38-F8su2GYHm",
        "outputId": "6734024a-e17e-4505-8a5f-d9524d4114e5"
      },
      "execution_count": null,
      "outputs": [
        {
          "output_type": "stream",
          "name": "stdout",
          "text": [
            "\n"
          ]
        }
      ]
    },
    {
      "cell_type": "code",
      "source": [
        "!pwd"
      ],
      "metadata": {
        "colab": {
          "base_uri": "https://localhost:8080/"
        },
        "id": "ydKw9IhOHI3s",
        "outputId": "bbb49e41-663b-4b3d-c715-0010661d951a"
      },
      "execution_count": null,
      "outputs": [
        {
          "output_type": "stream",
          "name": "stdout",
          "text": [
            "/content\n"
          ]
        }
      ]
    },
    {
      "cell_type": "code",
      "source": [
        "f2=open(\"my_image1.jpg\", \"wb\")"
      ],
      "metadata": {
        "id": "CuOcTxR8HKxo"
      },
      "execution_count": null,
      "outputs": []
    },
    {
      "cell_type": "code",
      "source": [
        "# EXCEPTION HANDLING    ----- WHY/  NORMAL FLOW OF CODE RUKNA NHI CHAIYE"
      ],
      "metadata": {
        "id": "D5kr8qF1Hf3Y"
      },
      "execution_count": null,
      "outputs": []
    },
    {
      "cell_type": "code",
      "source": [
        "int1 = int(input(\"Enter the first number: \"))\n",
        "int2 = int(input(\"Enter the second number: \"))\n",
        "\n",
        "try:\n",
        "    result = int1 / int2\n",
        "    print(\"Result:\", result)\n",
        "except ZeroDivisionError:\n",
        "    print(\"Error: Division by zero\")\n",
        "\n",
        "print(\"First number:\", int1)\n"
      ],
      "metadata": {
        "colab": {
          "base_uri": "https://localhost:8080/"
        },
        "id": "JExEM8ymI_hB",
        "outputId": "fc9b103c-2af0-447f-ed4a-66839560fe4f"
      },
      "execution_count": null,
      "outputs": [
        {
          "output_type": "stream",
          "name": "stdout",
          "text": [
            "Enter the first number: 10\n",
            "Enter the second number: 0\n",
            "Error: Division by zero\n",
            "First number: 10\n"
          ]
        }
      ]
    },
    {
      "cell_type": "code",
      "source": [
        "# multiple exceptions\n",
        "try:\n",
        "    int1 = int(input(\"Enter the first number: \"))\n",
        "    int2 = int(input(\"Enter the second number: \"))\n",
        "\n",
        "    result = int1 / int2\n",
        "    print(\"Result:\", result)\n",
        "\n",
        "except (ZeroDivisionError, ValueError):\n",
        "    print(\"Error: Invalid input or division by zero\")\n",
        "\n",
        "except NameError:\n",
        "    print(\"Error: Name is not defined\")\n",
        "\n",
        "else:\n",
        "    print(\"No error occurred\")\n",
        "\n",
        "finally:\n",
        "    print(\"Execution complete\")\n"
      ],
      "metadata": {
        "id": "G1htDjBbJhmP"
      },
      "execution_count": null,
      "outputs": []
    },
    {
      "cell_type": "code",
      "source": [
        "int1 = int(input(\"Enter the first number: \"))\n",
        "int2 = int(input(\"Enter the second number: \"))\n",
        "\n",
        "try:\n",
        "    result = int1 / int2\n",
        "    print(result)\n",
        "except Exception as e:\n",
        "    print(\"An error occurred:\", e)\n"
      ],
      "metadata": {
        "id": "SzVdhth1Krw-"
      },
      "execution_count": null,
      "outputs": []
    },
    {
      "cell_type": "code",
      "source": [
        "import sys\n",
        "\n",
        "int1 = int(input(\"Enter the first number: \"))\n",
        "int2 = int(input(\"Enter the second number: \"))\n",
        "\n",
        "try:\n",
        "    result = int1 / int2\n",
        "    print(result)\n",
        "except:\n",
        "    print(sys.exc_info()[1])\n"
      ],
      "metadata": {
        "id": "DM1oWt3-KC9C"
      },
      "execution_count": null,
      "outputs": []
    },
    {
      "cell_type": "code",
      "source": [
        "# RAISE FUNCTION      FOR USER DEFINED EXCEPTIONS\n"
      ],
      "metadata": {
        "id": "w8LwG2z0LnX3"
      },
      "execution_count": null,
      "outputs": []
    },
    {
      "cell_type": "code",
      "source": [
        "try:\n",
        "    age = int(input(\"Enter your age: \"))\n",
        "    if age < 0:\n",
        "        raise ValueError(\"You have entered wrong input\")\n",
        "    print(\"Your age is\", age)\n",
        "except ValueError as var:\n",
        "    print(var)\n",
        "\n",
        "print(\"Rest of the code\")\n"
      ],
      "metadata": {
        "id": "t3qUHyiXMLXU"
      },
      "execution_count": null,
      "outputs": []
    }
  ]
}