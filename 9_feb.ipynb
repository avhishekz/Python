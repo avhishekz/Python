{
  "nbformat": 4,
  "nbformat_minor": 0,
  "metadata": {
    "colab": {
      "provenance": [],
      "authorship_tag": "ABX9TyOJdc9g5kqJTBs6WBbSOB9X",
      "include_colab_link": true
    },
    "kernelspec": {
      "name": "python3",
      "display_name": "Python 3"
    },
    "language_info": {
      "name": "python"
    }
  },
  "cells": [
    {
      "cell_type": "markdown",
      "metadata": {
        "id": "view-in-github",
        "colab_type": "text"
      },
      "source": [
        "<a href=\"https://colab.research.google.com/github/avhishekz/Python/blob/main/9_feb.ipynb\" target=\"_parent\"><img src=\"https://colab.research.google.com/assets/colab-badge.svg\" alt=\"Open In Colab\"/></a>"
      ]
    },
    {
      "cell_type": "code",
      "execution_count": 3,
      "metadata": {
        "colab": {
          "base_uri": "https://localhost:8080/"
        },
        "id": "qrg9o88z0ZCF",
        "outputId": "e6e8fd4b-b95a-457c-e9d6-5c67542672b2"
      },
      "outputs": [
        {
          "output_type": "stream",
          "name": "stdout",
          "text": [
            "5\n",
            "out from loop\n",
            "4\n",
            "out from loop\n",
            "3\n",
            "out from loop\n",
            "2\n",
            "out from loop\n",
            "1\n",
            "out from loop\n"
          ]
        }
      ],
      "source": [
        "count = 5\n",
        "while count > 0:\n",
        "  print(count)\n",
        "  count=count-1\n",
        "  print(\"out from loop\")"
      ]
    },
    {
      "cell_type": "code",
      "source": [
        "count=5\n",
        "while count>0:\n",
        "  print(count)\n",
        "  count=count-1\n",
        "  if count == 3:\n",
        "    break\n",
        "else:\n",
        "  print(\"else block\")\n",
        "print(\"out of loop\")"
      ],
      "metadata": {
        "colab": {
          "base_uri": "https://localhost:8080/"
        },
        "id": "zk-Zy5D_3ivL",
        "outputId": "53317352-d0aa-4308-a8ce-d7a92fa6baed"
      },
      "execution_count": 9,
      "outputs": [
        {
          "output_type": "stream",
          "name": "stdout",
          "text": [
            "5\n",
            "4\n",
            "out of loop\n"
          ]
        }
      ]
    },
    {
      "cell_type": "markdown",
      "source": [
        "List={\"Hii\",\"Hello\",\"Welcome\"}\n",
        "name=[\"Abhi\",\"Aryan\",\"Rishu\"]\n",
        "for item in List:\n",
        "  print(item,i)\n",
        "  if item ==\"Hello\" and name==\"Rishu\":\n",
        "    break\n",
        "\n",
        "\n"
      ],
      "metadata": {
        "id": "tsgXfFuS3Yxt"
      }
    },
    {
      "cell_type": "code",
      "source": [
        "List={\"Hii\",\"Hello\",\"Welcome\"}\n",
        "name=[\"Abhi\",\"Aryan\",\"Rishu\"]\n",
        "for item in List:\n",
        " for i in name:\n",
        "  print(item,i)\n",
        "  if item ==\"Hello\" and i==\"Rishu\":\n",
        "    break\n",
        "    print(\"out of inner loop\")\n",
        "  print(\"out of outer loop\")"
      ],
      "metadata": {
        "colab": {
          "base_uri": "https://localhost:8080/"
        },
        "id": "zQ5hrGnl6UU8",
        "outputId": "cb4742d9-8f88-4611-8748-6946db94cd37"
      },
      "execution_count": 10,
      "outputs": [
        {
          "output_type": "stream",
          "name": "stdout",
          "text": [
            "Hii Abhi\n",
            "out of outer loop\n",
            "Hii Aryan\n",
            "out of outer loop\n",
            "Hii Rishu\n",
            "out of outer loop\n",
            "Welcome Abhi\n",
            "out of outer loop\n",
            "Welcome Aryan\n",
            "out of outer loop\n",
            "Welcome Rishu\n",
            "out of outer loop\n",
            "Hello Abhi\n",
            "out of outer loop\n",
            "Hello Aryan\n",
            "out of outer loop\n",
            "Hello Rishu\n"
          ]
        }
      ]
    },
    {
      "cell_type": "code",
      "source": [
        "count1=0\n",
        "while count1<10:\n",
        "  print(count1)\n",
        "  count1+=1\n",
        "  if count1 == 7:\n",
        "    continue\n",
        "  print(\"Hii\")\n",
        "print(\"Done\")"
      ],
      "metadata": {
        "colab": {
          "base_uri": "https://localhost:8080/"
        },
        "id": "UCNswd7e7pdx",
        "outputId": "125ac96a-e5ba-407b-890f-ca8a3c9ffc69"
      },
      "execution_count": 12,
      "outputs": [
        {
          "output_type": "stream",
          "name": "stdout",
          "text": [
            "0\n",
            "Hii\n",
            "1\n",
            "Hii\n",
            "2\n",
            "Hii\n",
            "3\n",
            "Hii\n",
            "4\n",
            "Hii\n",
            "5\n",
            "Hii\n",
            "6\n",
            "7\n",
            "Hii\n",
            "8\n",
            "Hii\n",
            "9\n",
            "Hii\n",
            "Done\n"
          ]
        }
      ]
    },
    {
      "cell_type": "code",
      "source": [
        "for letter in \"Hello\":\n",
        "  print(\"pass: \",letter)\n",
        "print(\"Done\")"
      ],
      "metadata": {
        "colab": {
          "base_uri": "https://localhost:8080/"
        },
        "id": "13iART2S6UZp",
        "outputId": "99e6263f-b3a1-4da9-db32-b149921ac815"
      },
      "execution_count": 14,
      "outputs": [
        {
          "output_type": "stream",
          "name": "stdout",
          "text": [
            "pass:  H\n",
            "pass:  e\n",
            "pass:  l\n",
            "pass:  l\n",
            "pass:  o\n",
            "Done\n"
          ]
        }
      ]
    },
    {
      "cell_type": "code",
      "source": [
        "total = 0\n",
        "number = int(input(\"enter the number(o to quit)\"))\n",
        "while number !=0:\n",
        "  total = total+number\n",
        "  number=int(input(\"enter the number(0 to quit)\"))\n",
        "print(total)"
      ],
      "metadata": {
        "colab": {
          "base_uri": "https://localhost:8080/"
        },
        "id": "8XlfuW3a8zeE",
        "outputId": "66c77660-5d34-45af-bd27-38a0b940cdf7"
      },
      "execution_count": 15,
      "outputs": [
        {
          "output_type": "stream",
          "name": "stdout",
          "text": [
            "enter the number(o to quit)3\n",
            "enter the number(0 to quit)3\n",
            "enter the number(0 to quit)3\n",
            "enter the number(0 to quit)3\n",
            "enter the number(0 to quit)3\n",
            "enter the number(0 to quit)0\n",
            "15\n"
          ]
        }
      ]
    },
    {
      "cell_type": "code",
      "source": [
        "number = int(input(\"enter the number(-1 to quit)\"))\n",
        "while number !=-1:\n",
        "  print(number)\n",
        "  number=int(input(\"enter the number(-1 to quit)\"))\n",
        "else:\n",
        "  print(\"else block is executed\")\n",
        "print(\"out \")"
      ],
      "metadata": {
        "colab": {
          "base_uri": "https://localhost:8080/"
        },
        "id": "eleOHQnT-Aso",
        "outputId": "b1d9e32d-ac86-461b-9b85-8852f5ed66e7"
      },
      "execution_count": 18,
      "outputs": [
        {
          "output_type": "stream",
          "name": "stdout",
          "text": [
            "enter the number(-1 to quit)2\n",
            "2\n",
            "enter the number(-1 to quit)4\n",
            "4\n",
            "enter the number(-1 to quit)-1\n",
            "else block is executed\n",
            "out \n"
          ]
        }
      ]
    },
    {
      "cell_type": "code",
      "source": [
        "count =0\n",
        "while True:\n",
        "  print(count)\n",
        "  count+=1\n",
        "  if count ==5:\n",
        "    break\n",
        "  else:\n",
        "    print(\"in else block\")\n",
        "  print(\"out from the loop\")"
      ],
      "metadata": {
        "colab": {
          "base_uri": "https://localhost:8080/"
        },
        "id": "Tf0q4gYj-0pa",
        "outputId": "f85ba412-4b5a-4cf9-b71b-50bc65b6dc5d"
      },
      "execution_count": 19,
      "outputs": [
        {
          "output_type": "stream",
          "name": "stdout",
          "text": [
            "0\n",
            "in else block\n",
            "out from the loop\n",
            "1\n",
            "in else block\n",
            "out from the loop\n",
            "2\n",
            "in else block\n",
            "out from the loop\n",
            "3\n",
            "in else block\n",
            "out from the loop\n",
            "4\n"
          ]
        }
      ]
    },
    {
      "cell_type": "code",
      "source": [
        "import random\n",
        "List= [\"Apple\",\"Banana\",\"Orange\",\"Mango\"]\n",
        "choose_word=random.choice(List)\n",
        "lives = 6\n",
        "print(choose_word)\n",
        "display=[]\n",
        "for letter in choose_word:\n",
        "  display+='_'\n",
        "print(display)\n"
      ],
      "metadata": {
        "colab": {
          "base_uri": "https://localhost:8080/"
        },
        "id": "rnSyGqPz_MPS",
        "outputId": "edfd10a7-4171-4d88-a11f-eb6e43612f64"
      },
      "execution_count": 24,
      "outputs": [
        {
          "output_type": "stream",
          "name": "stdout",
          "text": [
            "Orange\n",
            "['_', '_', '_', '_', '_', '_']\n"
          ]
        }
      ]
    }
  ]
}