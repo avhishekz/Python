{
  "nbformat": 4,
  "nbformat_minor": 0,
  "metadata": {
    "colab": {
      "provenance": [],
      "authorship_tag": "ABX9TyPjm4h1UUxl3QEq69juQhGI",
      "include_colab_link": true
    },
    "kernelspec": {
      "name": "python3",
      "display_name": "Python 3"
    },
    "language_info": {
      "name": "python"
    }
  },
  "cells": [
    {
      "cell_type": "markdown",
      "metadata": {
        "id": "view-in-github",
        "colab_type": "text"
      },
      "source": [
        "<a href=\"https://colab.research.google.com/github/avhishekz/Python/blob/main/Operators_24_jan.ipynb\" target=\"_parent\"><img src=\"https://colab.research.google.com/assets/colab-badge.svg\" alt=\"Open In Colab\"/></a>"
      ]
    },
    {
      "cell_type": "code",
      "execution_count": null,
      "metadata": {
        "id": "Fp_uJ8n3-g5z",
        "colab": {
          "base_uri": "https://localhost:8080/"
        },
        "outputId": "fc10c55c-aefd-4971-f9b8-a44b1a181a22"
      },
      "outputs": [
        {
          "output_type": "stream",
          "name": "stdout",
          "text": [
            "3\n"
          ]
        }
      ],
      "source": [
        "#ASSIGNMENT AND CONDITIONAL\n",
        "d=1\n",
        "d *= 3\n",
        "print(d)"
      ]
    },
    {
      "cell_type": "code",
      "source": [
        "e=6\n",
        "e /=3\n",
        "print(e)"
      ],
      "metadata": {
        "colab": {
          "base_uri": "https://localhost:8080/"
        },
        "id": "AEVTUdpvAcNm",
        "outputId": "acdf851d-2410-407d-dbfc-32157f6e130b"
      },
      "execution_count": null,
      "outputs": [
        {
          "output_type": "stream",
          "name": "stdout",
          "text": [
            "2.0\n"
          ]
        }
      ]
    },
    {
      "cell_type": "code",
      "source": [
        "f=7\n",
        "f %=3\n",
        "print(f)"
      ],
      "metadata": {
        "colab": {
          "base_uri": "https://localhost:8080/"
        },
        "id": "KPGH-EnGAi8z",
        "outputId": "247c227a-b1b1-49ba-edf2-b45b11de66cd"
      },
      "execution_count": null,
      "outputs": [
        {
          "output_type": "stream",
          "name": "stdout",
          "text": [
            "1\n"
          ]
        }
      ]
    },
    {
      "cell_type": "code",
      "source": [
        "g=36\n",
        "g //=6\n",
        "print(g)"
      ],
      "metadata": {
        "colab": {
          "base_uri": "https://localhost:8080/"
        },
        "id": "0MCEf6PJAotv",
        "outputId": "5e9793a4-b094-443d-fe03-6ecaf2396162"
      },
      "execution_count": null,
      "outputs": [
        {
          "output_type": "stream",
          "name": "stdout",
          "text": [
            "6\n"
          ]
        }
      ]
    },
    {
      "cell_type": "code",
      "source": [
        "h=2\n",
        "h **=2\n",
        "print(h)"
      ],
      "metadata": {
        "colab": {
          "base_uri": "https://localhost:8080/"
        },
        "id": "8cXCaSO_Awl3",
        "outputId": "f5a7a7bb-63e3-4225-e544-bcf6d7898064"
      },
      "execution_count": null,
      "outputs": [
        {
          "output_type": "stream",
          "name": "stdout",
          "text": [
            "4\n"
          ]
        }
      ]
    },
    {
      "cell_type": "code",
      "source": [
        "#COMPARISION OPERATORS\n",
        "\n"
      ],
      "metadata": {
        "id": "03YaZZi0A4Vd"
      },
      "execution_count": null,
      "outputs": []
    },
    {
      "cell_type": "code",
      "source": [
        "print (g==5)"
      ],
      "metadata": {
        "colab": {
          "base_uri": "https://localhost:8080/"
        },
        "id": "oc2k5fiaBttl",
        "outputId": "d1a6cfcb-91d9-4faa-9a8f-821c8290f7cf"
      },
      "execution_count": null,
      "outputs": [
        {
          "output_type": "stream",
          "name": "stdout",
          "text": [
            "False\n"
          ]
        }
      ]
    },
    {
      "cell_type": "code",
      "source": [],
      "metadata": {
        "id": "F8a7sFpOCAqp"
      },
      "execution_count": null,
      "outputs": []
    },
    {
      "cell_type": "code",
      "source": [
        "print(g!=5)"
      ],
      "metadata": {
        "colab": {
          "base_uri": "https://localhost:8080/"
        },
        "id": "gArL7DkKCAwW",
        "outputId": "50f8c5ad-c81d-4e31-faea-623c70d7c05c"
      },
      "execution_count": null,
      "outputs": [
        {
          "output_type": "stream",
          "name": "stdout",
          "text": [
            "True\n"
          ]
        }
      ]
    },
    {
      "cell_type": "code",
      "source": [
        "ab=2\n",
        "ba=4\n",
        "print(ab>1 and ba<5)"
      ],
      "metadata": {
        "colab": {
          "base_uri": "https://localhost:8080/"
        },
        "id": "gVdQIVs6CIp0",
        "outputId": "7d22a2d0-2724-402e-e3b9-cf441f2b1370"
      },
      "execution_count": null,
      "outputs": [
        {
          "output_type": "stream",
          "name": "stdout",
          "text": [
            "True\n"
          ]
        }
      ]
    },
    {
      "cell_type": "code",
      "source": [
        "print(ab>1 or ba<3)"
      ],
      "metadata": {
        "colab": {
          "base_uri": "https://localhost:8080/"
        },
        "id": "WtHZg-ZvCU97",
        "outputId": "b1c4b13c-2191-4738-b911-5cf39b844c68"
      },
      "execution_count": null,
      "outputs": [
        {
          "output_type": "stream",
          "name": "stdout",
          "text": [
            "True\n"
          ]
        }
      ]
    },
    {
      "cell_type": "code",
      "source": [
        "print(not ab) #jb ab ka value 0 hoga then true"
      ],
      "metadata": {
        "colab": {
          "base_uri": "https://localhost:8080/"
        },
        "id": "pQ2ZjJscCaKR",
        "outputId": "226b96ee-e47d-478d-f73f-bf5a3b8f13a4"
      },
      "execution_count": null,
      "outputs": [
        {
          "output_type": "stream",
          "name": "stdout",
          "text": [
            "False\n"
          ]
        }
      ]
    },
    {
      "cell_type": "code",
      "source": [
        "#BITWISE  WORKS ON BITS OR BINARY NOS AND,,,&   OR,,,|\n"
      ],
      "metadata": {
        "id": "kvOHyCujDfOR"
      },
      "execution_count": null,
      "outputs": []
    },
    {
      "cell_type": "code",
      "source": [],
      "metadata": {
        "id": "eKO6NVGrEQ0V"
      },
      "execution_count": null,
      "outputs": []
    },
    {
      "cell_type": "code",
      "source": [
        "abc=5\n",
        "acb=4\n",
        "print(abc & acb)  #abc=5=101(in binary)  and acb=4=100(in binary) , we represent nos in 4 bits and 8 bits.\n"
      ],
      "metadata": {
        "colab": {
          "base_uri": "https://localhost:8080/"
        },
        "id": "cqv-fTCBDtcu",
        "outputId": "291d353e-033f-4013-b8e1-6cdbb625fbd9"
      },
      "execution_count": null,
      "outputs": [
        {
          "output_type": "stream",
          "name": "stdout",
          "text": [
            "4\n"
          ]
        }
      ]
    },
    {
      "cell_type": "code",
      "source": [
        "print(abc|acb)"
      ],
      "metadata": {
        "colab": {
          "base_uri": "https://localhost:8080/"
        },
        "id": "dbIflW2xERoo",
        "outputId": "760fb41a-d0b8-4abc-d71c-899a1c5b8bcc"
      },
      "execution_count": null,
      "outputs": [
        {
          "output_type": "stream",
          "name": "stdout",
          "text": [
            "5\n"
          ]
        }
      ]
    },
    {
      "cell_type": "code",
      "source": [
        "print(abc^acb)  #XOR  low lo high krna hai high ko low krna hai"
      ],
      "metadata": {
        "colab": {
          "base_uri": "https://localhost:8080/"
        },
        "id": "_hut8N9AEWpe",
        "outputId": "aa4f302e-6ce4-49e5-ac57-63427621fff1"
      },
      "execution_count": null,
      "outputs": [
        {
          "output_type": "stream",
          "name": "stdout",
          "text": [
            "1\n"
          ]
        }
      ]
    },
    {
      "cell_type": "code",
      "source": [
        "print (~abc) #How......... binary of 5...=0101 not of this....1010=10,\n",
        "#we can not store -ve number in  memory , for this we calculatee 2's compliment"
      ],
      "metadata": {
        "colab": {
          "base_uri": "https://localhost:8080/"
        },
        "id": "9nO9dO9xE5BI",
        "outputId": "c04a3212-23a1-415e-cf37-6a2943ff95d6"
      },
      "execution_count": null,
      "outputs": [
        {
          "output_type": "stream",
          "name": "stdout",
          "text": [
            "-6\n"
          ]
        }
      ]
    },
    {
      "cell_type": "code",
      "source": [
        "print(abc<<2) #0101 just move number two bits left....010100...We gain the bits in left shift."
      ],
      "metadata": {
        "colab": {
          "base_uri": "https://localhost:8080/"
        },
        "id": "WHGg0hoCGh4t",
        "outputId": "40047c75-7fc9-44f8-ca8a-eb2151a95719"
      },
      "execution_count": null,
      "outputs": [
        {
          "output_type": "stream",
          "name": "stdout",
          "text": [
            "20\n"
          ]
        }
      ]
    },
    {
      "cell_type": "code",
      "source": [
        "print(abc>>2)"
      ],
      "metadata": {
        "colab": {
          "base_uri": "https://localhost:8080/"
        },
        "id": "JyfCmVDnG0wS",
        "outputId": "6de01bd0-8d3a-4ab7-df0d-a4ba88839a52"
      },
      "execution_count": null,
      "outputs": [
        {
          "output_type": "stream",
          "name": "stdout",
          "text": [
            "1\n"
          ]
        }
      ]
    },
    {
      "cell_type": "code",
      "source": [
        "#IDENTITY OPERATORS\n",
        "#value nhi id check krta hai\n",
        "# is   ,  is not"
      ],
      "metadata": {
        "id": "YXYd08TvHTBs"
      },
      "execution_count": null,
      "outputs": []
    },
    {
      "cell_type": "code",
      "source": [
        "xy=4\n",
        "yz=4\n",
        "print(id(xy))\n",
        "print(id(yz))"
      ],
      "metadata": {
        "colab": {
          "base_uri": "https://localhost:8080/"
        },
        "id": "4jE3ybpIIUxw",
        "outputId": "550143c8-e2b8-4df1-9c52-8b3c4f683065"
      },
      "execution_count": null,
      "outputs": [
        {
          "output_type": "stream",
          "name": "stdout",
          "text": [
            "132672308724048\n",
            "132672308724048\n"
          ]
        }
      ]
    },
    {
      "cell_type": "code",
      "source": [
        "#MEMBERSHIP OPERATORS\n",
        "#in  and  not in"
      ],
      "metadata": {
        "id": "pA6psELmIb1T"
      },
      "execution_count": null,
      "outputs": []
    },
    {
      "cell_type": "code",
      "source": [
        "print(round(1.5)) #nearest even no dega"
      ],
      "metadata": {
        "colab": {
          "base_uri": "https://localhost:8080/"
        },
        "id": "__28EntDK2ux",
        "outputId": "3f223f0b-8ca8-470e-a59b-4df3a7846992"
      },
      "execution_count": null,
      "outputs": [
        {
          "output_type": "stream",
          "name": "stdout",
          "text": [
            "2\n"
          ]
        }
      ]
    },
    {
      "cell_type": "code",
      "source": [
        "print(round(4.5))"
      ],
      "metadata": {
        "colab": {
          "base_uri": "https://localhost:8080/"
        },
        "id": "xtofQ8LXMBgL",
        "outputId": "d8f5183c-6ec5-4adb-eec5-9c795d6006ff"
      },
      "execution_count": null,
      "outputs": [
        {
          "output_type": "stream",
          "name": "stdout",
          "text": [
            "4\n"
          ]
        }
      ]
    },
    {
      "cell_type": "code",
      "source": [
        "print(round(5.5))"
      ],
      "metadata": {
        "colab": {
          "base_uri": "https://localhost:8080/"
        },
        "id": "KRi8oVcvMeXw",
        "outputId": "f86c02ec-60e4-4a02-9286-594ca12ac6ed"
      },
      "execution_count": null,
      "outputs": [
        {
          "output_type": "stream",
          "name": "stdout",
          "text": [
            "6\n"
          ]
        }
      ]
    },
    {
      "cell_type": "code",
      "source": [],
      "metadata": {
        "id": "8nODk02aMU9C"
      },
      "execution_count": null,
      "outputs": []
    },
    {
      "cell_type": "code",
      "source": [
        "round(21.35,1)"
      ],
      "metadata": {
        "colab": {
          "base_uri": "https://localhost:8080/"
        },
        "id": "oWt_p6TSLAw8",
        "outputId": "cffc420b-9710-4d84-c69b-513a8f3e0806"
      },
      "execution_count": null,
      "outputs": [
        {
          "output_type": "execute_result",
          "data": {
            "text/plain": [
              "21.4"
            ]
          },
          "metadata": {},
          "execution_count": 29
        }
      ]
    },
    {
      "cell_type": "code",
      "source": [],
      "metadata": {
        "id": "VuAEUnqkLYGa"
      },
      "execution_count": null,
      "outputs": []
    }
  ]
}