{
  "nbformat": 4,
  "nbformat_minor": 0,
  "metadata": {
    "colab": {
      "provenance": [],
      "authorship_tag": "ABX9TyNSkcaObQSJ0kLwi/W91c08",
      "include_colab_link": true
    },
    "kernelspec": {
      "name": "python3",
      "display_name": "Python 3"
    },
    "language_info": {
      "name": "python"
    }
  },
  "cells": [
    {
      "cell_type": "markdown",
      "metadata": {
        "id": "view-in-github",
        "colab_type": "text"
      },
      "source": [
        "<a href=\"https://colab.research.google.com/github/avhishekz/Python/blob/main/31_jan_24_order_pizza_nd_list_nd_random_fns.ipynb\" target=\"_parent\"><img src=\"https://colab.research.google.com/assets/colab-badge.svg\" alt=\"Open In Colab\"/></a>"
      ]
    },
    {
      "cell_type": "code",
      "source": [
        "height = int(input(\"Enter your height\"))\n",
        "age = int(input(\"Enter your age\"))\n",
        "if height >= 1.5:\n",
        "  print(\"You can enter\")\n",
        "  if age <= 5:\n",
        "    print(\"free to ride\")\n",
        "  elif age <= 18:\n",
        "    print(\"You have to pay 500\")\n",
        "  else:\n",
        "      print(\"pay 1000\")\n",
        "  click_photo = input(\"Do you want to click your photograph? (yes/no): \")\n",
        "  if click_photo == \"yes\":\n",
        "    total_amount = 200\n",
        "    if age <= 5:\n",
        "      total_amount += 0\n",
        "    elif age <= 18:\n",
        "      total_amount += 500\n",
        "    else:\n",
        "      total_amount += 1000\n",
        "    print(\"Total amount:\", total_amount)\n",
        "  else:\n",
        "    print(\"Thank you for visiting!\")\n"
      ],
      "metadata": {
        "colab": {
          "base_uri": "https://localhost:8080/"
        },
        "id": "tbqLuXfGC683",
        "outputId": "235fb42e-148f-42ca-ed08-2534d1f674ed"
      },
      "execution_count": null,
      "outputs": [
        {
          "output_type": "stream",
          "name": "stdout",
          "text": [
            "Enter your height60\n",
            "Enter your age60\n",
            "You can enter\n",
            "pay 1000\n",
            "Do you want to click your photograph? (yes/no): yes\n",
            "Total amount: 1200\n"
          ]
        }
      ]
    },
    {
      "cell_type": "code",
      "source": [
        "print(\"Hello its pizza order center\")\n",
        "pizza=input(\"Enter the type of pizza you wants(small/medium/large)\")\n",
        "bill=0\n",
        "if pizza == \"small\":\n",
        "  bill+= 100\n",
        "  print(\"your bill is Rs 100\")\n",
        "elif pizza == \"medium\":\n",
        "  bill+=200\n",
        "  print(\"Your bill is Rs 200\")\n",
        "elif pizza ==\"large\":\n",
        "  bill+=300\n",
        "  print(\"You have to pay Rs 300\")\n",
        "topup=input(\"Do you want to top up musroom , paneer , capsicom in ur pizza (yes/no) \")\n",
        "if topup == \"yes\"\n",
        "\n",
        "\n",
        "\n"
      ],
      "metadata": {
        "colab": {
          "base_uri": "https://localhost:8080/"
        },
        "id": "WEhesh0mF0uB",
        "outputId": "16e80dde-91c8-4856-8ab1-90d917791401"
      },
      "execution_count": null,
      "outputs": [
        {
          "output_type": "stream",
          "name": "stdout",
          "text": [
            "Hello its pizza order center\n",
            "Enter the type of pizza you wants(small/medium/large)large\n",
            "You have to pay Rs 300\n"
          ]
        }
      ]
    },
    {
      "cell_type": "code",
      "source": [
        "list=[1,-1,0,82,2,3,4,5,6]\n",
        "list[1:5:3]  #range from  1 to 5 and skip 3 btw two"
      ],
      "metadata": {
        "colab": {
          "base_uri": "https://localhost:8080/"
        },
        "id": "sVuuwhYKJdAK",
        "outputId": "e83a3768-3a7c-4a2d-9a51-f07a3b6a598c"
      },
      "execution_count": null,
      "outputs": [
        {
          "output_type": "execute_result",
          "data": {
            "text/plain": [
              "[-1, 2]"
            ]
          },
          "metadata": {},
          "execution_count": 29
        }
      ]
    },
    {
      "cell_type": "code",
      "source": [
        "list.sort()\n",
        "print (list)"
      ],
      "metadata": {
        "colab": {
          "base_uri": "https://localhost:8080/"
        },
        "id": "dbFYyA1_KBV0",
        "outputId": "44f1106b-f9a3-4ed2-cd0a-252db099129e"
      },
      "execution_count": null,
      "outputs": [
        {
          "output_type": "stream",
          "name": "stdout",
          "text": [
            "[-1, 0, 1, 2, 3, 4, 5, 6, 82]\n"
          ]
        }
      ]
    },
    {
      "cell_type": "code",
      "source": [
        "list.reverse\n",
        "print(list)"
      ],
      "metadata": {
        "colab": {
          "base_uri": "https://localhost:8080/"
        },
        "id": "jK6R0LmqKL5H",
        "outputId": "d55796eb-c8aa-4f20-e682-048041c1f8b5"
      },
      "execution_count": null,
      "outputs": [
        {
          "output_type": "stream",
          "name": "stdout",
          "text": [
            "[-1, 0, 1, 2, 3, 4, 5, 6, 82]\n"
          ]
        }
      ]
    },
    {
      "cell_type": "code",
      "source": [
        "list1=[1,\"upes\",\"True\"]\n",
        "print(\"list\")# work nhi krega because it needs similar value"
      ],
      "metadata": {
        "colab": {
          "base_uri": "https://localhost:8080/"
        },
        "id": "qsQ1oyLlKQrS",
        "outputId": "3eb041b1-6e6e-47c0-b339-aa3a6f19ae49"
      },
      "execution_count": null,
      "outputs": [
        {
          "output_type": "stream",
          "name": "stdout",
          "text": [
            "list1\n"
          ]
        }
      ]
    },
    {
      "cell_type": "code",
      "source": [
        "list.insert(2,24) #2nd index pe 24 insert\n",
        "print(list)"
      ],
      "metadata": {
        "colab": {
          "base_uri": "https://localhost:8080/"
        },
        "id": "2zuaDpYOKibr",
        "outputId": "da5551d7-f1cd-4065-cf6d-ef979451e0ee"
      },
      "execution_count": null,
      "outputs": [
        {
          "output_type": "stream",
          "name": "stdout",
          "text": [
            "[-1, 0, 24, 1, 2, 3, 4, 5, 6, 82]\n"
          ]
        }
      ]
    },
    {
      "cell_type": "code",
      "source": [
        "list.append(97)  # last mein likhna\n",
        "list"
      ],
      "metadata": {
        "colab": {
          "base_uri": "https://localhost:8080/"
        },
        "id": "d-odaWrvKxPW",
        "outputId": "ed78511d-a1f7-47c0-a5b1-9478c0ae8c9c"
      },
      "execution_count": null,
      "outputs": [
        {
          "output_type": "execute_result",
          "data": {
            "text/plain": [
              "[-1, 0, 24, 1, 2, 3, 4, 5, 6, 82, 97]"
            ]
          },
          "metadata": {},
          "execution_count": 34
        }
      ]
    },
    {
      "cell_type": "code",
      "source": [
        "list[1]=333 #position pe insert krna\n",
        "list"
      ],
      "metadata": {
        "colab": {
          "base_uri": "https://localhost:8080/"
        },
        "id": "ZPK4Ey46KxXG",
        "outputId": "9515177b-4a46-417a-8890-b35e08f890ca"
      },
      "execution_count": null,
      "outputs": [
        {
          "output_type": "execute_result",
          "data": {
            "text/plain": [
              "[-1, 333, 24, 1, 2, 3, 4, 5, 6, 82, 97]"
            ]
          },
          "metadata": {},
          "execution_count": 35
        }
      ]
    },
    {
      "cell_type": "code",
      "source": [
        "list.remove(82) #element dekh ke delete krta hai\n",
        "print (list)"
      ],
      "metadata": {
        "colab": {
          "base_uri": "https://localhost:8080/"
        },
        "id": "hVJiXJjMMIr8",
        "outputId": "50471986-f8dc-43d5-a3d1-446e1132a8c9"
      },
      "execution_count": null,
      "outputs": [
        {
          "output_type": "stream",
          "name": "stdout",
          "text": [
            "[-1, 333, 1, 2, 3, 4, 5, 6, 97]\n"
          ]
        }
      ]
    },
    {
      "cell_type": "code",
      "source": [
        "list.pop(3) #index dekh ke delete krta hai\n",
        "list"
      ],
      "metadata": {
        "colab": {
          "base_uri": "https://localhost:8080/"
        },
        "id": "P0mLGFdyMOIg",
        "outputId": "a046a391-2b45-40c7-ccc8-1600c4e2241b"
      },
      "execution_count": null,
      "outputs": [
        {
          "output_type": "execute_result",
          "data": {
            "text/plain": [
              "[-1, 333, 1, 3, 4, 5, 6, 97]"
            ]
          },
          "metadata": {},
          "execution_count": 42
        }
      ]
    },
    {
      "cell_type": "code",
      "source": [
        "import random #koi bhi random value generate krna\n",
        "b=random.randrange(1,9)  # 1 to 9 but 8 wont bw included\n",
        "print (b)"
      ],
      "metadata": {
        "colab": {
          "base_uri": "https://localhost:8080/"
        },
        "id": "y_VPNlBKM92i",
        "outputId": "e82c71a4-806f-4f12-852c-56e513b960d9"
      },
      "execution_count": null,
      "outputs": [
        {
          "output_type": "stream",
          "name": "stdout",
          "text": [
            "7\n"
          ]
        }
      ]
    },
    {
      "cell_type": "code",
      "source": [
        "import random\n",
        "a=random.randint(1,9)  # values from 1 to 8 , 8 wont be included\n",
        "print(a)"
      ],
      "metadata": {
        "colab": {
          "base_uri": "https://localhost:8080/"
        },
        "id": "fKP1C16qNXJk",
        "outputId": "b1580b03-02db-4941-af50-40bc6cf53241"
      },
      "execution_count": null,
      "outputs": [
        {
          "output_type": "stream",
          "name": "stdout",
          "text": [
            "6\n"
          ]
        }
      ]
    },
    {
      "cell_type": "code",
      "source": [
        "c=random.random() # rerurns floating point number from 0 to 1.0 excluding 1.o\n",
        "print(c)"
      ],
      "metadata": {
        "colab": {
          "base_uri": "https://localhost:8080/"
        },
        "id": "AMJqF0esN9LQ",
        "outputId": "36768c07-89f7-4f84-816d-1257306b5e2b"
      },
      "execution_count": null,
      "outputs": [
        {
          "output_type": "stream",
          "name": "stdout",
          "text": [
            "0.510678629801287\n"
          ]
        }
      ]
    },
    {
      "cell_type": "code",
      "source": [
        "list2 = [ 96,98,234,1234,4323,\"Abhi\"]\n",
        "a= random.choice(list2)\n",
        "print(a)"
      ],
      "metadata": {
        "colab": {
          "base_uri": "https://localhost:8080/"
        },
        "id": "T-n-b_olOaUD",
        "outputId": "42da8b9f-b30a-4aa3-e18b-a01b65c9a54d"
      },
      "execution_count": null,
      "outputs": [
        {
          "output_type": "stream",
          "name": "stdout",
          "text": [
            "Abhi\n"
          ]
        }
      ]
    },
    {
      "cell_type": "code",
      "source": [
        "random.shuffle(list2)\n",
        "list2"
      ],
      "metadata": {
        "colab": {
          "base_uri": "https://localhost:8080/"
        },
        "id": "I1Y7XfuMPNZI",
        "outputId": "8179a0c7-be77-4346-98b7-9f934f9fa3d5"
      },
      "execution_count": null,
      "outputs": [
        {
          "output_type": "execute_result",
          "data": {
            "text/plain": [
              "[96, 4323, 234, 1234, 'Abhi', 98]"
            ]
          },
          "metadata": {},
          "execution_count": 60
        }
      ]
    },
    {
      "cell_type": "code",
      "source": [
        "import random\n",
        "side=random.randint(0,1) #2 hi value chaiye\n",
        "if side == 1:\n",
        "  print(\"Heads\")\n",
        "else:\n",
        "  print(\"Tails\")"
      ],
      "metadata": {
        "colab": {
          "base_uri": "https://localhost:8080/"
        },
        "id": "9bcVXIrxPV_P",
        "outputId": "eca7c274-a83d-4a6a-db59-fe357ab2c11a"
      },
      "execution_count": null,
      "outputs": [
        {
          "output_type": "stream",
          "name": "stdout",
          "text": [
            "Taila\n"
          ]
        }
      ]
    },
    {
      "cell_type": "code",
      "source": [
        "text=\"Python is a boring language\"\n",
        "text_a=text.split(\" \")\n",
        "print(text_a)"
      ],
      "metadata": {
        "colab": {
          "base_uri": "https://localhost:8080/"
        },
        "id": "pbjEsPSzQATS",
        "outputId": "8e65f343-2f53-4239-af35-0bffaaee0171"
      },
      "execution_count": null,
      "outputs": [
        {
          "output_type": "stream",
          "name": "stdout",
          "text": [
            "['Python', 'is', 'a', 'boring', 'language']\n"
          ]
        }
      ]
    },
    {
      "cell_type": "code",
      "source": [
        "import random\n",
        "names=input(\"Enter names sepearated by comma\")\n",
        "names_list = names.split(\",\")\n",
        "length = len(names_list)\n",
        "choice=random.randint(0,length-1)\n",
        "print(f\"{names_list[choice]} will pay the bill\")\n"
      ],
      "metadata": {
        "colab": {
          "base_uri": "https://localhost:8080/"
        },
        "id": "VYshygtHQU7H",
        "outputId": "368554ad-9184-44d4-9c98-abe31be8a979"
      },
      "execution_count": null,
      "outputs": [
        {
          "output_type": "stream",
          "name": "stdout",
          "text": [
            "Enter names sepearated by commaabhi,shubham,rishi,aryan\n",
            "aryan will pay the bill\n"
          ]
        }
      ]
    },
    {
      "cell_type": "code",
      "source": [
        "#NESTED LIST LIST KE ANDR EK AUR List\n"
      ],
      "metadata": {
        "id": "XxEWJdiPRxDJ"
      },
      "execution_count": null,
      "outputs": []
    },
    {
      "cell_type": "code",
      "source": [
        "\n"
      ],
      "metadata": {
        "id": "9mm2POgHUQRq"
      },
      "execution_count": null,
      "outputs": []
    },
    {
      "cell_type": "code",
      "source": [
        "emojis = [[\"😀\", \"😁\", \"😂\"], [\"😃\", \"😄\", \"😅\"], [\"😆\", \"😇\", \"😈\"]]\n",
        "row = int(input(\"Enter the row (0-2): \"))\n",
        "column = int(input(\"Enter the column (0-2): \"))\n",
        "new_value = input(\"Enter the new value: \")\n",
        "emojis[row][column] = new_value\n",
        "for row in emojis:\n",
        "    for emoji in row:\n",
        "        print(emoji, end=\" \")\n",
        "    print()\n"
      ],
      "metadata": {
        "id": "YMmiUg77VJO7"
      },
      "execution_count": null,
      "outputs": []
    },
    {
      "cell_type": "code",
      "source": [
        "Row1=[\"😀\", \"😁\", \"😂\"]\n",
        "Row2=[\"😃\", \"😄\", \"😅\"]\n",
        "Row3=[\"😆\", \"😇\", \"😈\"]\n",
        "print(f\"{Row1}\\n{Row2}\\n{Row3}\")\n",
        "matrix=[Row1,Row2,Row3]\n",
        "position = input(\"Enter the pos u want to hide ur money: \")\n",
        "row_no=int(position[0])-1\n",
        "column_no=int(position[1])-1\n",
        "row_selected= matrix[row_no-1]\n",
        "row_selected[column_no-1] ='X'\n",
        "print(f\"{Row1}\\n{Row2}\\n{Row3}\")\n",
        "\n"
      ],
      "metadata": {
        "colab": {
          "base_uri": "https://localhost:8080/",
          "height": 314
        },
        "id": "woj_Eut4X_kS",
        "outputId": "dbe1f984-ec45-48ac-91b7-c9b867e790ba"
      },
      "execution_count": null,
      "outputs": [
        {
          "name": "stdout",
          "output_type": "stream",
          "text": [
            "['😀', '😁', '😂']\n",
            "['😃', '😄', '😅']\n",
            "['😆', '😇', '😈']\n",
            "Enter the pos u want to hide ur money: 2\n"
          ]
        },
        {
          "output_type": "error",
          "ename": "IndexError",
          "evalue": "string index out of range",
          "traceback": [
            "\u001b[0;31m---------------------------------------------------------------------------\u001b[0m",
            "\u001b[0;31mIndexError\u001b[0m                                Traceback (most recent call last)",
            "\u001b[0;32m<ipython-input-99-8d1a513b31e2>\u001b[0m in \u001b[0;36m<cell line: 8>\u001b[0;34m()\u001b[0m\n\u001b[1;32m      6\u001b[0m \u001b[0mposition\u001b[0m \u001b[0;34m=\u001b[0m \u001b[0minput\u001b[0m\u001b[0;34m(\u001b[0m\u001b[0;34m\"Enter the pos u want to hide ur money: \"\u001b[0m\u001b[0;34m)\u001b[0m\u001b[0;34m\u001b[0m\u001b[0;34m\u001b[0m\u001b[0m\n\u001b[1;32m      7\u001b[0m \u001b[0mrow_no\u001b[0m\u001b[0;34m=\u001b[0m\u001b[0mint\u001b[0m\u001b[0;34m(\u001b[0m\u001b[0mposition\u001b[0m\u001b[0;34m[\u001b[0m\u001b[0;36m0\u001b[0m\u001b[0;34m]\u001b[0m\u001b[0;34m)\u001b[0m\u001b[0;34m-\u001b[0m\u001b[0;36m1\u001b[0m\u001b[0;34m\u001b[0m\u001b[0;34m\u001b[0m\u001b[0m\n\u001b[0;32m----> 8\u001b[0;31m \u001b[0mcolumn_no\u001b[0m\u001b[0;34m=\u001b[0m\u001b[0mint\u001b[0m\u001b[0;34m(\u001b[0m\u001b[0mposition\u001b[0m\u001b[0;34m[\u001b[0m\u001b[0;36m1\u001b[0m\u001b[0;34m]\u001b[0m\u001b[0;34m)\u001b[0m\u001b[0;34m-\u001b[0m\u001b[0;36m1\u001b[0m\u001b[0;34m\u001b[0m\u001b[0;34m\u001b[0m\u001b[0m\n\u001b[0m\u001b[1;32m      9\u001b[0m \u001b[0mrow_selected\u001b[0m\u001b[0;34m=\u001b[0m \u001b[0mmatrix\u001b[0m\u001b[0;34m[\u001b[0m\u001b[0mrow_no\u001b[0m\u001b[0;34m-\u001b[0m\u001b[0;36m1\u001b[0m\u001b[0;34m]\u001b[0m\u001b[0;34m\u001b[0m\u001b[0;34m\u001b[0m\u001b[0m\n\u001b[1;32m     10\u001b[0m \u001b[0mrow_selected\u001b[0m\u001b[0;34m[\u001b[0m\u001b[0mcolumn_no\u001b[0m\u001b[0;34m-\u001b[0m\u001b[0;36m1\u001b[0m\u001b[0;34m]\u001b[0m \u001b[0;34m=\u001b[0m\u001b[0;34m'X'\u001b[0m\u001b[0;34m\u001b[0m\u001b[0;34m\u001b[0m\u001b[0m\n",
            "\u001b[0;31mIndexError\u001b[0m: string index out of range"
          ]
        }
      ]
    }
  ]
}