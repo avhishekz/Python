{
  "nbformat": 4,
  "nbformat_minor": 0,
  "metadata": {
    "colab": {
      "provenance": [],
      "authorship_tag": "ABX9TyP/2ufuqoL5Eo4LQPeLQoRJ",
      "include_colab_link": true
    },
    "kernelspec": {
      "name": "python3",
      "display_name": "Python 3"
    },
    "language_info": {
      "name": "python"
    }
  },
  "cells": [
    {
      "cell_type": "markdown",
      "metadata": {
        "id": "view-in-github",
        "colab_type": "text"
      },
      "source": [
        "<a href=\"https://colab.research.google.com/github/avhishekz/Python/blob/main/14_feb_FUNCTION.ipynb\" target=\"_parent\"><img src=\"https://colab.research.google.com/assets/colab-badge.svg\" alt=\"Open In Colab\"/></a>"
      ]
    },
    {
      "cell_type": "code",
      "execution_count": null,
      "metadata": {
        "colab": {
          "base_uri": "https://localhost:8080/"
        },
        "id": "IIGWvjKtIAo-",
        "outputId": "8ad6f328-b62e-4df6-d78d-e4d1a6bde602"
      },
      "outputs": [
        {
          "output_type": "stream",
          "name": "stdout",
          "text": [
            "Hii\n",
            "Python\n",
            "Hii\n",
            "Python\n"
          ]
        }
      ],
      "source": [
        "def greet():\n",
        "  print(\"Hii\")\n",
        "  print(\"Python\")\n",
        "greet()\n",
        "greet()"
      ]
    },
    {
      "cell_type": "code",
      "source": [
        "def python():\n",
        "  print(\"We are studying functions\")\n",
        "  print(\"Its first class\")\n",
        "\n",
        "python()"
      ],
      "metadata": {
        "colab": {
          "base_uri": "https://localhost:8080/"
        },
        "id": "vqCam5PULX_O",
        "outputId": "3a34098b-7364-41bc-a955-653846d78534"
      },
      "execution_count": null,
      "outputs": [
        {
          "output_type": "stream",
          "name": "stdout",
          "text": [
            "We are studying functions\n",
            "Its first class\n"
          ]
        }
      ]
    },
    {
      "cell_type": "code",
      "source": [
        "def add(x,y):\n",
        "  add=x+y\n",
        "  print(f\"sum is{add}\")\n",
        "add(10,-3)"
      ],
      "metadata": {
        "colab": {
          "base_uri": "https://localhost:8080/"
        },
        "id": "SFnjgKTAL1fV",
        "outputId": "2f406a49-2871-442f-eafe-35534f86a551"
      },
      "execution_count": null,
      "outputs": [
        {
          "output_type": "stream",
          "name": "stdout",
          "text": [
            "sum is7\n"
          ]
        }
      ]
    },
    {
      "cell_type": "code",
      "source": [
        "add(10,12)"
      ],
      "metadata": {
        "colab": {
          "base_uri": "https://localhost:8080/"
        },
        "id": "BM4HI82LMUgs",
        "outputId": "deaca023-4e41-4af9-d6f3-9336f7a770fa"
      },
      "execution_count": null,
      "outputs": [
        {
          "output_type": "stream",
          "name": "stdout",
          "text": [
            "sum is22\n"
          ]
        }
      ]
    },
    {
      "cell_type": "code",
      "source": [
        "#Types of arguments  1.Default   2.key word  3.Positional  4."
      ],
      "metadata": {
        "id": "YqP8EQttMZsF"
      },
      "execution_count": null,
      "outputs": []
    },
    {
      "cell_type": "code",
      "source": [
        "#Default argument\n",
        "#jo fn decleration pe use ho"
      ],
      "metadata": {
        "id": "6O5hmTvnOiRi"
      },
      "execution_count": null,
      "outputs": []
    },
    {
      "cell_type": "code",
      "source": [
        "#POSITIONAL ARGUMENT\n",
        "def person_info(Name,Dept):\n",
        "  print(\"your name is \",Name)\n",
        "  print(\"your dept is\",Dept)\n",
        "person_info(\"Abhi\",\"Socs\")\n"
      ],
      "metadata": {
        "colab": {
          "base_uri": "https://localhost:8080/"
        },
        "id": "aobQ3WldMbMF",
        "outputId": "2bf32be4-7715-4520-934c-6ef8bedbceb4"
      },
      "execution_count": null,
      "outputs": [
        {
          "output_type": "stream",
          "name": "stdout",
          "text": [
            "your name is  Abhi\n",
            "your dept is Socs\n"
          ]
        }
      ]
    },
    {
      "cell_type": "code",
      "source": [
        "#KEY ARGUMENT\n",
        "def UPES(Name,dept):\n",
        "  print(f\"Hii {Name}\")\n",
        "  print(f\"Are you from {dept} department\")\n",
        "UPES( dept=\"Socs\",Name=\"Abhi\")"
      ],
      "metadata": {
        "colab": {
          "base_uri": "https://localhost:8080/"
        },
        "id": "w0TrVJc8NIWv",
        "outputId": "b60064dd-3dc9-4632-89cc-1f8641ccdddc"
      },
      "execution_count": null,
      "outputs": [
        {
          "output_type": "stream",
          "name": "stdout",
          "text": [
            "Hii Abhi\n",
            "Are you from Socs department\n"
          ]
        }
      ]
    },
    {
      "cell_type": "code",
      "source": [
        "#DEFAULT\n",
        "def UPES1(Name,student,dept=\"SOCS\"):\n",
        "  print(f\"Hii {Name}\")\n",
        "  print(f\"I am {student}\")\n",
        "  print(f\"Are you from {dept} department\")\n",
        "UPES1( \"Abhi\",\"Rishu\",dept=\"SOE\")"
      ],
      "metadata": {
        "colab": {
          "base_uri": "https://localhost:8080/"
        },
        "id": "rTVXmjnNPP7m",
        "outputId": "d7d7447a-f02c-407a-cdd0-2ef525c97371"
      },
      "execution_count": null,
      "outputs": [
        {
          "output_type": "stream",
          "name": "stdout",
          "text": [
            "Hii Abhi\n",
            "I am Rishu\n",
            "Are you from SOE department\n"
          ]
        }
      ]
    },
    {
      "cell_type": "code",
      "source": [
        "def sum(*Y): #  * keyword se mtlb variable length\n",
        "  sum=0\n",
        "  for i in Y:\n",
        "    sum+=i\n",
        "  print(f\"your addition is {sum}\")\n",
        "\n",
        "sum(1,2,3,4,5,6,7,8,9)"
      ],
      "metadata": {
        "colab": {
          "base_uri": "https://localhost:8080/"
        },
        "id": "nIu15uPuOuQG",
        "outputId": "abce20b3-73da-4a0d-aaac-d749fd265d3f"
      },
      "execution_count": null,
      "outputs": [
        {
          "output_type": "stream",
          "name": "stdout",
          "text": [
            "your addition is 45\n"
          ]
        }
      ]
    },
    {
      "cell_type": "code",
      "source": [
        "# *\n",
        "# **"
      ],
      "metadata": {
        "id": "SYdUFuASQaHF"
      },
      "execution_count": null,
      "outputs": []
    },
    {
      "cell_type": "code",
      "source": [
        "def xyz(*num,name):\n",
        "  sum4=0\n",
        "  print(num)\n",
        "  print(name)\n",
        "\n",
        "  for i in num:\n",
        "    sum4=sum4+i\n",
        "  print(f\"sum is {sum4}\")\n",
        "\n",
        "xyz(1,3,5, name=\"Touseef\")"
      ],
      "metadata": {
        "colab": {
          "base_uri": "https://localhost:8080/"
        },
        "id": "swp4mrmoTTQe",
        "outputId": "dd965a5e-e7e0-4dcb-8619-ac5540378b31"
      },
      "execution_count": null,
      "outputs": [
        {
          "output_type": "stream",
          "name": "stdout",
          "text": [
            "(1, 3, 5)\n",
            "Touseef\n",
            "sum is 9\n"
          ]
        }
      ]
    },
    {
      "cell_type": "code",
      "source": [
        "def info_person1(*args, **kwargs):\n",
        "  for i,j in kwargs.items():\n",
        "    print(i,j)\n",
        "  print(args)\n",
        "\n",
        "info_person1(3,4,name=\"abhi\",dept=\"S0E\")\n"
      ],
      "metadata": {
        "colab": {
          "base_uri": "https://localhost:8080/"
        },
        "id": "F0UEuKC-UOnR",
        "outputId": "3cd0089c-585e-4a96-93be-b59d0164282e"
      },
      "execution_count": null,
      "outputs": [
        {
          "output_type": "stream",
          "name": "stdout",
          "text": [
            "name abhi\n",
            "dept S0E\n",
            "(3, 4)\n"
          ]
        }
      ]
    }
  ]
}