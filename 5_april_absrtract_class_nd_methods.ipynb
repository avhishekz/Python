{
  "nbformat": 4,
  "nbformat_minor": 0,
  "metadata": {
    "colab": {
      "provenance": [],
      "authorship_tag": "ABX9TyPIVQV/2I9Atq3Murmrlr2M",
      "include_colab_link": true
    },
    "kernelspec": {
      "name": "python3",
      "display_name": "Python 3"
    },
    "language_info": {
      "name": "python"
    }
  },
  "cells": [
    {
      "cell_type": "markdown",
      "metadata": {
        "id": "view-in-github",
        "colab_type": "text"
      },
      "source": [
        "<a href=\"https://colab.research.google.com/github/avhishekz/Python/blob/main/5_april_absrtract_class_nd_methods.ipynb\" target=\"_parent\"><img src=\"https://colab.research.google.com/assets/colab-badge.svg\" alt=\"Open In Colab\"/></a>"
      ]
    },
    {
      "cell_type": "code",
      "execution_count": null,
      "metadata": {
        "id": "cuoltBaKNKwP"
      },
      "outputs": [],
      "source": [
        "#ABSTRACT IS LIKE SHORTB SUMMARY\n",
        "from abc import ABC, abstractmethod   #EK ABSTRACT CLASS aur uske andr method\n",
        "\n",
        "class Student(ABC):    #METHOD\n",
        "\n",
        "     @abstractmethod   #DECORATER   WHY TO USE?    ABSTRACT METHOD , JB KOI AUR CLASS BNATE HAIN JO INERIT KRTA HAI DESCRIPTION CLASS"
      ]
    },
    {
      "cell_type": "code",
      "source": [
        "#IMPORT MODULE"
      ],
      "metadata": {
        "id": "ah67NHvJP2PO"
      },
      "execution_count": null,
      "outputs": []
    },
    {
      "cell_type": "code",
      "source": [
        "from abc import ABC,abstractmethod\n",
        "\n",
        "class Computer(ABC):\n",
        "  @abstractmethod\n",
        "  def process(self):\n",
        "    pass\n",
        "class Laptop(Computer):\n",
        "  def process(self):\n",
        "    print(\"running\")\n",
        "com1=Laptop()\n",
        "com1.process()\n"
      ],
      "metadata": {
        "colab": {
          "base_uri": "https://localhost:8080/"
        },
        "id": "gWjyW5umS6Mz",
        "outputId": "3c93b06a-76ec-491c-8853-f641f64b08ee"
      },
      "execution_count": null,
      "outputs": [
        {
          "output_type": "stream",
          "name": "stdout",
          "text": [
            "running\n"
          ]
        }
      ]
    },
    {
      "cell_type": "code",
      "source": [
        "from abc import ABC, abstractmethod\n",
        "\n",
        "class Car(ABC):\n",
        "    def show(self):\n",
        "        print(\"Every car has four wheels\")\n",
        "\n",
        "    @abstractmethod\n",
        "    def speed(self):\n",
        "        pass\n",
        "\n",
        "class Maruti(Car):\n",
        "    def speed(self):\n",
        "        print(\"Maximum speed 100 km/hr\")\n",
        "\n",
        "class Suzuki(Car):\n",
        "    def speed(self):\n",
        "        print(\"Speed is 70 km/hr\")\n"
      ],
      "metadata": {
        "id": "5V3xykcmURa6"
      },
      "execution_count": null,
      "outputs": []
    },
    {
      "cell_type": "code",
      "source": [
        "#METHOD OVERLOADING    -NOT RESTICTED UPTO CERTAIN PARAMETERS"
      ],
      "metadata": {
        "id": "ep4s1A4DQS1l"
      },
      "execution_count": null,
      "outputs": []
    },
    {
      "cell_type": "code",
      "source": [
        " #ek function bnaya , 3 parameters diye=none\n",
        "\n",
        "class Student:\n",
        "    def sum(self, a=None, b=None, c=None):\n",
        "        if a is not None and b is not None and c is not None:\n",
        "            return a + b + c\n",
        "        elif a is not None and b is not None:\n",
        "            return a + b\n",
        "        elif a is not None:\n",
        "            return a\n",
        "        else:\n",
        "            return 0\n"
      ],
      "metadata": {
        "id": "LOEx066wSGCG"
      },
      "execution_count": 33,
      "outputs": []
    },
    {
      "cell_type": "code",
      "source": [
        "def Decor(printer):\n",
        "    def inner():\n",
        "        printer()\n",
        "        print(\"I am printing\")\n",
        "    return inner\n",
        "@Decor\n",
        "def printer():\n",
        "    print(\"I am Printing\")\n",
        "    print(\"I am Printing\")\n",
        "\n",
        "printer()\n"
      ],
      "metadata": {
        "colab": {
          "base_uri": "https://localhost:8080/"
        },
        "id": "y2x5ZkU0bLFZ",
        "outputId": "90f1be8d-ad84-4d41-ecf2-cf86311abc3a"
      },
      "execution_count": 11,
      "outputs": [
        {
          "output_type": "stream",
          "name": "stdout",
          "text": [
            "I am Printing\n",
            "I am Printing\n",
            "I am printing\n"
          ]
        }
      ]
    },
    {
      "cell_type": "code",
      "source": [
        "def addition():\n",
        "    num1 = float(input(\"Enter 1st no: \"))\n",
        "    num2 = float(input(\"Enter 2nd no: \"))\n",
        "    result = num1 + num2\n",
        "    return result\n",
        "\n",
        "addition()\n",
        "\n",
        ""
      ],
      "metadata": {
        "colab": {
          "base_uri": "https://localhost:8080/"
        },
        "id": "VgO0dE3reZgW",
        "outputId": "17a9ee0a-11e0-4662-9e00-e2f74204caa3"
      },
      "execution_count": 13,
      "outputs": [
        {
          "name": "stdout",
          "output_type": "stream",
          "text": [
            "Enter 1st no: 10\n",
            "Enter 2nd no: 2\n"
          ]
        },
        {
          "output_type": "execute_result",
          "data": {
            "text/plain": [
              "12.0"
            ]
          },
          "metadata": {},
          "execution_count": 13
        }
      ]
    },
    {
      "cell_type": "code",
      "source": [
        "def Decor(addition):\n",
        "  def inner():\n",
        "    num3 = float(input(\"Enter 3rd no: \"))\n",
        "    result=addition()\n",
        "    result1=result+num3\n",
        "    return result1\n",
        "  return inner\n",
        "\n",
        "@Decor\n",
        "def addition():\n",
        "  num1 = float(input(\"Enter 1st no: \"))\n",
        "  num2 = float(input(\"Enter 2nd no: \"))\n",
        "  result = num1 + num2\n",
        "  return result\n",
        "addition=Decor(addition)\n",
        "addition()\n"
      ],
      "metadata": {
        "colab": {
          "base_uri": "https://localhost:8080/"
        },
        "id": "dcotUp4he9rH",
        "outputId": "73ac4b8f-7f20-4b2b-9818-cccae768e65d"
      },
      "execution_count": 31,
      "outputs": [
        {
          "name": "stdout",
          "output_type": "stream",
          "text": [
            "Enter 3rd no: 10\n",
            "Enter 3rd no: 1\n",
            "Enter 1st no: 1\n",
            "Enter 2nd no: 1\n"
          ]
        },
        {
          "output_type": "execute_result",
          "data": {
            "text/plain": [
              "13.0"
            ]
          },
          "metadata": {},
          "execution_count": 31
        }
      ]
    }
  ]
}